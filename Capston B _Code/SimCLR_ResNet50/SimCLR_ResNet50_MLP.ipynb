{
  "nbformat": 4,
  "nbformat_minor": 0,
  "metadata": {
    "colab": {
      "provenance": [],
      "machine_shape": "hm",
      "gpuType": "L4"
    },
    "kernelspec": {
      "name": "python3",
      "display_name": "Python 3"
    },
    "language_info": {
      "name": "python"
    },
    "accelerator": "GPU"
  },
  "cells": [
    {
      "cell_type": "code",
      "execution_count": 1,
      "metadata": {
        "colab": {
          "base_uri": "https://localhost:8080/",
          "height": 1000
        },
        "id": "DzAddgZSQX-i",
        "outputId": "c5f0f002-75c6-4e13-e262-830c8b994ad5"
      },
      "outputs": [
        {
          "output_type": "stream",
          "name": "stderr",
          "text": [
            "/usr/local/lib/python3.12/dist-packages/torchvision/models/_utils.py:208: UserWarning: The parameter 'pretrained' is deprecated since 0.13 and may be removed in the future, please use 'weights' instead.\n",
            "  warnings.warn(\n",
            "/usr/local/lib/python3.12/dist-packages/torchvision/models/_utils.py:223: UserWarning: Arguments other than a weight enum or `None` for 'weights' are deprecated since 0.13 and may be removed in the future. The current behavior is equivalent to passing `weights=ResNet50_Weights.IMAGENET1K_V1`. You can also use `weights=ResNet50_Weights.DEFAULT` to get the most up-to-date weights.\n",
            "  warnings.warn(msg)\n"
          ]
        },
        {
          "output_type": "stream",
          "name": "stdout",
          "text": [
            "Downloading: \"https://download.pytorch.org/models/resnet50-0676ba61.pth\" to /root/.cache/torch/hub/checkpoints/resnet50-0676ba61.pth\n"
          ]
        },
        {
          "output_type": "stream",
          "name": "stderr",
          "text": [
            "100%|██████████| 97.8M/97.8M [00:00<00:00, 187MB/s]\n",
            "SimCLR Pretrain 1/100: 100%|██████████| 59/59 [10:53<00:00, 11.08s/it]\n"
          ]
        },
        {
          "output_type": "stream",
          "name": "stdout",
          "text": [
            "[Pretrain] Epoch 1/100 | Loss: 4.4953\n"
          ]
        },
        {
          "output_type": "stream",
          "name": "stderr",
          "text": [
            "SimCLR Pretrain 2/100: 100%|██████████| 59/59 [04:04<00:00,  4.15s/it]\n"
          ]
        },
        {
          "output_type": "stream",
          "name": "stdout",
          "text": [
            "[Pretrain] Epoch 2/100 | Loss: 4.2970\n"
          ]
        },
        {
          "output_type": "stream",
          "name": "stderr",
          "text": [
            "SimCLR Pretrain 3/100: 100%|██████████| 59/59 [02:45<00:00,  2.81s/it]\n"
          ]
        },
        {
          "output_type": "stream",
          "name": "stdout",
          "text": [
            "[Pretrain] Epoch 3/100 | Loss: 4.2439\n"
          ]
        },
        {
          "output_type": "stream",
          "name": "stderr",
          "text": [
            "SimCLR Pretrain 4/100: 100%|██████████| 59/59 [02:23<00:00,  2.43s/it]\n"
          ]
        },
        {
          "output_type": "stream",
          "name": "stdout",
          "text": [
            "[Pretrain] Epoch 4/100 | Loss: 4.1901\n"
          ]
        },
        {
          "output_type": "stream",
          "name": "stderr",
          "text": [
            "SimCLR Pretrain 5/100: 100%|██████████| 59/59 [02:05<00:00,  2.13s/it]\n"
          ]
        },
        {
          "output_type": "stream",
          "name": "stdout",
          "text": [
            "[Pretrain] Epoch 5/100 | Loss: 4.1349\n"
          ]
        },
        {
          "output_type": "stream",
          "name": "stderr",
          "text": [
            "SimCLR Pretrain 6/100: 100%|██████████| 59/59 [01:58<00:00,  2.01s/it]\n"
          ]
        },
        {
          "output_type": "stream",
          "name": "stdout",
          "text": [
            "[Pretrain] Epoch 6/100 | Loss: 4.1106\n"
          ]
        },
        {
          "output_type": "stream",
          "name": "stderr",
          "text": [
            "SimCLR Pretrain 7/100: 100%|██████████| 59/59 [01:44<00:00,  1.78s/it]\n"
          ]
        },
        {
          "output_type": "stream",
          "name": "stdout",
          "text": [
            "[Pretrain] Epoch 7/100 | Loss: 4.0712\n"
          ]
        },
        {
          "output_type": "stream",
          "name": "stderr",
          "text": [
            "SimCLR Pretrain 8/100: 100%|██████████| 59/59 [01:43<00:00,  1.75s/it]\n"
          ]
        },
        {
          "output_type": "stream",
          "name": "stdout",
          "text": [
            "[Pretrain] Epoch 8/100 | Loss: 4.0847\n"
          ]
        },
        {
          "output_type": "stream",
          "name": "stderr",
          "text": [
            "SimCLR Pretrain 9/100: 100%|██████████| 59/59 [01:40<00:00,  1.71s/it]\n"
          ]
        },
        {
          "output_type": "stream",
          "name": "stdout",
          "text": [
            "[Pretrain] Epoch 9/100 | Loss: 4.0682\n"
          ]
        },
        {
          "output_type": "stream",
          "name": "stderr",
          "text": [
            "SimCLR Pretrain 10/100: 100%|██████████| 59/59 [01:32<00:00,  1.57s/it]\n"
          ]
        },
        {
          "output_type": "stream",
          "name": "stdout",
          "text": [
            "[Pretrain] Epoch 10/100 | Loss: 4.0507\n"
          ]
        },
        {
          "output_type": "stream",
          "name": "stderr",
          "text": [
            "SimCLR Pretrain 11/100: 100%|██████████| 59/59 [01:27<00:00,  1.49s/it]\n"
          ]
        },
        {
          "output_type": "stream",
          "name": "stdout",
          "text": [
            "[Pretrain] Epoch 11/100 | Loss: 4.0408\n"
          ]
        },
        {
          "output_type": "stream",
          "name": "stderr",
          "text": [
            "SimCLR Pretrain 12/100: 100%|██████████| 59/59 [01:25<00:00,  1.46s/it]\n"
          ]
        },
        {
          "output_type": "stream",
          "name": "stdout",
          "text": [
            "[Pretrain] Epoch 12/100 | Loss: 4.0234\n"
          ]
        },
        {
          "output_type": "stream",
          "name": "stderr",
          "text": [
            "SimCLR Pretrain 13/100: 100%|██████████| 59/59 [01:23<00:00,  1.41s/it]\n"
          ]
        },
        {
          "output_type": "stream",
          "name": "stdout",
          "text": [
            "[Pretrain] Epoch 13/100 | Loss: 4.0153\n"
          ]
        },
        {
          "output_type": "stream",
          "name": "stderr",
          "text": [
            "SimCLR Pretrain 14/100: 100%|██████████| 59/59 [01:21<00:00,  1.38s/it]\n"
          ]
        },
        {
          "output_type": "stream",
          "name": "stdout",
          "text": [
            "[Pretrain] Epoch 14/100 | Loss: 4.0294\n"
          ]
        },
        {
          "output_type": "stream",
          "name": "stderr",
          "text": [
            "SimCLR Pretrain 15/100: 100%|██████████| 59/59 [01:19<00:00,  1.35s/it]\n"
          ]
        },
        {
          "output_type": "stream",
          "name": "stdout",
          "text": [
            "[Pretrain] Epoch 15/100 | Loss: 4.0149\n"
          ]
        },
        {
          "output_type": "stream",
          "name": "stderr",
          "text": [
            "SimCLR Pretrain 16/100: 100%|██████████| 59/59 [01:19<00:00,  1.35s/it]\n"
          ]
        },
        {
          "output_type": "stream",
          "name": "stdout",
          "text": [
            "[Pretrain] Epoch 16/100 | Loss: 4.0289\n"
          ]
        },
        {
          "output_type": "stream",
          "name": "stderr",
          "text": [
            "SimCLR Pretrain 17/100: 100%|██████████| 59/59 [01:19<00:00,  1.35s/it]\n"
          ]
        },
        {
          "output_type": "stream",
          "name": "stdout",
          "text": [
            "[Pretrain] Epoch 17/100 | Loss: 4.0124\n"
          ]
        },
        {
          "output_type": "stream",
          "name": "stderr",
          "text": [
            "SimCLR Pretrain 18/100: 100%|██████████| 59/59 [01:17<00:00,  1.31s/it]\n"
          ]
        },
        {
          "output_type": "stream",
          "name": "stdout",
          "text": [
            "[Pretrain] Epoch 18/100 | Loss: 3.9998\n"
          ]
        },
        {
          "output_type": "stream",
          "name": "stderr",
          "text": [
            "SimCLR Pretrain 19/100: 100%|██████████| 59/59 [01:17<00:00,  1.31s/it]\n"
          ]
        },
        {
          "output_type": "stream",
          "name": "stdout",
          "text": [
            "[Pretrain] Epoch 19/100 | Loss: 3.9966\n"
          ]
        },
        {
          "output_type": "stream",
          "name": "stderr",
          "text": [
            "SimCLR Pretrain 20/100: 100%|██████████| 59/59 [01:17<00:00,  1.31s/it]\n"
          ]
        },
        {
          "output_type": "stream",
          "name": "stdout",
          "text": [
            "[Pretrain] Epoch 20/100 | Loss: 3.9824\n"
          ]
        },
        {
          "output_type": "stream",
          "name": "stderr",
          "text": [
            "SimCLR Pretrain 21/100: 100%|██████████| 59/59 [01:16<00:00,  1.30s/it]\n"
          ]
        },
        {
          "output_type": "stream",
          "name": "stdout",
          "text": [
            "[Pretrain] Epoch 21/100 | Loss: 3.9599\n"
          ]
        },
        {
          "output_type": "stream",
          "name": "stderr",
          "text": [
            "SimCLR Pretrain 22/100: 100%|██████████| 59/59 [01:17<00:00,  1.31s/it]\n"
          ]
        },
        {
          "output_type": "stream",
          "name": "stdout",
          "text": [
            "[Pretrain] Epoch 22/100 | Loss: 3.9757\n"
          ]
        },
        {
          "output_type": "stream",
          "name": "stderr",
          "text": [
            "SimCLR Pretrain 23/100: 100%|██████████| 59/59 [01:16<00:00,  1.30s/it]\n"
          ]
        },
        {
          "output_type": "stream",
          "name": "stdout",
          "text": [
            "[Pretrain] Epoch 23/100 | Loss: 3.9733\n"
          ]
        },
        {
          "output_type": "stream",
          "name": "stderr",
          "text": [
            "SimCLR Pretrain 24/100: 100%|██████████| 59/59 [01:16<00:00,  1.30s/it]\n"
          ]
        },
        {
          "output_type": "stream",
          "name": "stdout",
          "text": [
            "[Pretrain] Epoch 24/100 | Loss: 3.9816\n"
          ]
        },
        {
          "output_type": "stream",
          "name": "stderr",
          "text": [
            "SimCLR Pretrain 25/100: 100%|██████████| 59/59 [01:16<00:00,  1.30s/it]\n"
          ]
        },
        {
          "output_type": "stream",
          "name": "stdout",
          "text": [
            "[Pretrain] Epoch 25/100 | Loss: 3.9608\n"
          ]
        },
        {
          "output_type": "stream",
          "name": "stderr",
          "text": [
            "SimCLR Pretrain 26/100: 100%|██████████| 59/59 [01:16<00:00,  1.30s/it]\n"
          ]
        },
        {
          "output_type": "stream",
          "name": "stdout",
          "text": [
            "[Pretrain] Epoch 26/100 | Loss: 3.9552\n"
          ]
        },
        {
          "output_type": "stream",
          "name": "stderr",
          "text": [
            "SimCLR Pretrain 27/100: 100%|██████████| 59/59 [01:17<00:00,  1.31s/it]\n"
          ]
        },
        {
          "output_type": "stream",
          "name": "stdout",
          "text": [
            "[Pretrain] Epoch 27/100 | Loss: 3.9572\n"
          ]
        },
        {
          "output_type": "stream",
          "name": "stderr",
          "text": [
            "SimCLR Pretrain 28/100: 100%|██████████| 59/59 [01:16<00:00,  1.30s/it]\n"
          ]
        },
        {
          "output_type": "stream",
          "name": "stdout",
          "text": [
            "[Pretrain] Epoch 28/100 | Loss: 3.9607\n"
          ]
        },
        {
          "output_type": "stream",
          "name": "stderr",
          "text": [
            "SimCLR Pretrain 29/100: 100%|██████████| 59/59 [01:16<00:00,  1.30s/it]\n"
          ]
        },
        {
          "output_type": "stream",
          "name": "stdout",
          "text": [
            "[Pretrain] Epoch 29/100 | Loss: 3.9562\n"
          ]
        },
        {
          "output_type": "stream",
          "name": "stderr",
          "text": [
            "SimCLR Pretrain 30/100: 100%|██████████| 59/59 [01:16<00:00,  1.30s/it]\n"
          ]
        },
        {
          "output_type": "stream",
          "name": "stdout",
          "text": [
            "[Pretrain] Epoch 30/100 | Loss: 3.9645\n"
          ]
        },
        {
          "output_type": "stream",
          "name": "stderr",
          "text": [
            "SimCLR Pretrain 31/100: 100%|██████████| 59/59 [01:16<00:00,  1.30s/it]\n"
          ]
        },
        {
          "output_type": "stream",
          "name": "stdout",
          "text": [
            "[Pretrain] Epoch 31/100 | Loss: 3.9484\n"
          ]
        },
        {
          "output_type": "stream",
          "name": "stderr",
          "text": [
            "SimCLR Pretrain 32/100: 100%|██████████| 59/59 [01:16<00:00,  1.30s/it]\n"
          ]
        },
        {
          "output_type": "stream",
          "name": "stdout",
          "text": [
            "[Pretrain] Epoch 32/100 | Loss: 3.9618\n"
          ]
        },
        {
          "output_type": "stream",
          "name": "stderr",
          "text": [
            "SimCLR Pretrain 33/100: 100%|██████████| 59/59 [01:16<00:00,  1.30s/it]\n"
          ]
        },
        {
          "output_type": "stream",
          "name": "stdout",
          "text": [
            "[Pretrain] Epoch 33/100 | Loss: 3.9393\n"
          ]
        },
        {
          "output_type": "stream",
          "name": "stderr",
          "text": [
            "SimCLR Pretrain 34/100: 100%|██████████| 59/59 [01:16<00:00,  1.30s/it]\n"
          ]
        },
        {
          "output_type": "stream",
          "name": "stdout",
          "text": [
            "[Pretrain] Epoch 34/100 | Loss: 3.9382\n"
          ]
        },
        {
          "output_type": "stream",
          "name": "stderr",
          "text": [
            "SimCLR Pretrain 35/100: 100%|██████████| 59/59 [01:16<00:00,  1.30s/it]\n"
          ]
        },
        {
          "output_type": "stream",
          "name": "stdout",
          "text": [
            "[Pretrain] Epoch 35/100 | Loss: 3.9504\n"
          ]
        },
        {
          "output_type": "stream",
          "name": "stderr",
          "text": [
            "SimCLR Pretrain 36/100: 100%|██████████| 59/59 [01:16<00:00,  1.30s/it]\n"
          ]
        },
        {
          "output_type": "stream",
          "name": "stdout",
          "text": [
            "[Pretrain] Epoch 36/100 | Loss: 3.9409\n"
          ]
        },
        {
          "output_type": "stream",
          "name": "stderr",
          "text": [
            "SimCLR Pretrain 37/100: 100%|██████████| 59/59 [01:16<00:00,  1.29s/it]\n"
          ]
        },
        {
          "output_type": "stream",
          "name": "stdout",
          "text": [
            "[Pretrain] Epoch 37/100 | Loss: 3.9526\n"
          ]
        },
        {
          "output_type": "stream",
          "name": "stderr",
          "text": [
            "SimCLR Pretrain 38/100: 100%|██████████| 59/59 [01:16<00:00,  1.29s/it]\n"
          ]
        },
        {
          "output_type": "stream",
          "name": "stdout",
          "text": [
            "[Pretrain] Epoch 38/100 | Loss: 3.9363\n"
          ]
        },
        {
          "output_type": "stream",
          "name": "stderr",
          "text": [
            "SimCLR Pretrain 39/100: 100%|██████████| 59/59 [01:16<00:00,  1.29s/it]\n"
          ]
        },
        {
          "output_type": "stream",
          "name": "stdout",
          "text": [
            "[Pretrain] Epoch 39/100 | Loss: 3.9343\n"
          ]
        },
        {
          "output_type": "stream",
          "name": "stderr",
          "text": [
            "SimCLR Pretrain 40/100: 100%|██████████| 59/59 [01:15<00:00,  1.29s/it]\n"
          ]
        },
        {
          "output_type": "stream",
          "name": "stdout",
          "text": [
            "[Pretrain] Epoch 40/100 | Loss: 3.9363\n"
          ]
        },
        {
          "output_type": "stream",
          "name": "stderr",
          "text": [
            "SimCLR Pretrain 41/100: 100%|██████████| 59/59 [01:15<00:00,  1.29s/it]\n"
          ]
        },
        {
          "output_type": "stream",
          "name": "stdout",
          "text": [
            "[Pretrain] Epoch 41/100 | Loss: 3.9342\n"
          ]
        },
        {
          "output_type": "stream",
          "name": "stderr",
          "text": [
            "SimCLR Pretrain 42/100: 100%|██████████| 59/59 [01:16<00:00,  1.29s/it]\n"
          ]
        },
        {
          "output_type": "stream",
          "name": "stdout",
          "text": [
            "[Pretrain] Epoch 42/100 | Loss: 3.9299\n"
          ]
        },
        {
          "output_type": "stream",
          "name": "stderr",
          "text": [
            "SimCLR Pretrain 43/100: 100%|██████████| 59/59 [01:16<00:00,  1.29s/it]\n"
          ]
        },
        {
          "output_type": "stream",
          "name": "stdout",
          "text": [
            "[Pretrain] Epoch 43/100 | Loss: 3.9286\n"
          ]
        },
        {
          "output_type": "stream",
          "name": "stderr",
          "text": [
            "SimCLR Pretrain 44/100: 100%|██████████| 59/59 [01:15<00:00,  1.29s/it]\n"
          ]
        },
        {
          "output_type": "stream",
          "name": "stdout",
          "text": [
            "[Pretrain] Epoch 44/100 | Loss: 3.9222\n"
          ]
        },
        {
          "output_type": "stream",
          "name": "stderr",
          "text": [
            "SimCLR Pretrain 45/100: 100%|██████████| 59/59 [01:16<00:00,  1.29s/it]\n"
          ]
        },
        {
          "output_type": "stream",
          "name": "stdout",
          "text": [
            "[Pretrain] Epoch 45/100 | Loss: 3.9283\n"
          ]
        },
        {
          "output_type": "stream",
          "name": "stderr",
          "text": [
            "SimCLR Pretrain 46/100: 100%|██████████| 59/59 [01:16<00:00,  1.29s/it]\n"
          ]
        },
        {
          "output_type": "stream",
          "name": "stdout",
          "text": [
            "[Pretrain] Epoch 46/100 | Loss: 3.9276\n"
          ]
        },
        {
          "output_type": "stream",
          "name": "stderr",
          "text": [
            "SimCLR Pretrain 47/100: 100%|██████████| 59/59 [01:16<00:00,  1.29s/it]\n"
          ]
        },
        {
          "output_type": "stream",
          "name": "stdout",
          "text": [
            "[Pretrain] Epoch 47/100 | Loss: 3.9206\n"
          ]
        },
        {
          "output_type": "stream",
          "name": "stderr",
          "text": [
            "SimCLR Pretrain 48/100: 100%|██████████| 59/59 [01:15<00:00,  1.29s/it]\n"
          ]
        },
        {
          "output_type": "stream",
          "name": "stdout",
          "text": [
            "[Pretrain] Epoch 48/100 | Loss: 3.9097\n"
          ]
        },
        {
          "output_type": "stream",
          "name": "stderr",
          "text": [
            "SimCLR Pretrain 49/100: 100%|██████████| 59/59 [01:15<00:00,  1.28s/it]\n"
          ]
        },
        {
          "output_type": "stream",
          "name": "stdout",
          "text": [
            "[Pretrain] Epoch 49/100 | Loss: 3.9090\n"
          ]
        },
        {
          "output_type": "stream",
          "name": "stderr",
          "text": [
            "SimCLR Pretrain 50/100: 100%|██████████| 59/59 [01:15<00:00,  1.29s/it]\n"
          ]
        },
        {
          "output_type": "stream",
          "name": "stdout",
          "text": [
            "[Pretrain] Epoch 50/100 | Loss: 3.9221\n"
          ]
        },
        {
          "output_type": "stream",
          "name": "stderr",
          "text": [
            "SimCLR Pretrain 51/100: 100%|██████████| 59/59 [01:16<00:00,  1.29s/it]\n"
          ]
        },
        {
          "output_type": "stream",
          "name": "stdout",
          "text": [
            "[Pretrain] Epoch 51/100 | Loss: 3.9297\n"
          ]
        },
        {
          "output_type": "stream",
          "name": "stderr",
          "text": [
            "SimCLR Pretrain 52/100: 100%|██████████| 59/59 [01:16<00:00,  1.29s/it]\n"
          ]
        },
        {
          "output_type": "stream",
          "name": "stdout",
          "text": [
            "[Pretrain] Epoch 52/100 | Loss: 3.9200\n"
          ]
        },
        {
          "output_type": "stream",
          "name": "stderr",
          "text": [
            "SimCLR Pretrain 53/100: 100%|██████████| 59/59 [01:16<00:00,  1.29s/it]\n"
          ]
        },
        {
          "output_type": "stream",
          "name": "stdout",
          "text": [
            "[Pretrain] Epoch 53/100 | Loss: 3.9206\n"
          ]
        },
        {
          "output_type": "stream",
          "name": "stderr",
          "text": [
            "SimCLR Pretrain 54/100: 100%|██████████| 59/59 [01:16<00:00,  1.29s/it]\n"
          ]
        },
        {
          "output_type": "stream",
          "name": "stdout",
          "text": [
            "[Pretrain] Epoch 54/100 | Loss: 3.9131\n",
            "Early stopping SimCLR pretraining at epoch 54 (no improvement for 5 epochs).\n",
            "Pretraining time: 87.64 min\n"
          ]
        },
        {
          "output_type": "stream",
          "name": "stderr",
          "text": [
            "Fine-tune 1/100: 100%|██████████| 59/59 [00:38<00:00,  1.53it/s]\n"
          ]
        },
        {
          "output_type": "stream",
          "name": "stdout",
          "text": [
            "[Fine-tune] Epoch 1/100 | Loss: 0.6774 | Train Acc: 81.65%\n"
          ]
        },
        {
          "output_type": "stream",
          "name": "stderr",
          "text": [
            "Fine-tune 2/100: 100%|██████████| 59/59 [00:38<00:00,  1.55it/s]\n"
          ]
        },
        {
          "output_type": "stream",
          "name": "stdout",
          "text": [
            "[Fine-tune] Epoch 2/100 | Loss: 0.1624 | Train Acc: 92.29%\n"
          ]
        },
        {
          "output_type": "stream",
          "name": "stderr",
          "text": [
            "Fine-tune 3/100: 100%|██████████| 59/59 [00:38<00:00,  1.52it/s]\n"
          ]
        },
        {
          "output_type": "stream",
          "name": "stdout",
          "text": [
            "[Fine-tune] Epoch 3/100 | Loss: 0.1151 | Train Acc: 94.02%\n"
          ]
        },
        {
          "output_type": "stream",
          "name": "stderr",
          "text": [
            "Fine-tune 4/100: 100%|██████████| 59/59 [00:38<00:00,  1.52it/s]\n"
          ]
        },
        {
          "output_type": "stream",
          "name": "stdout",
          "text": [
            "[Fine-tune] Epoch 4/100 | Loss: 0.0860 | Train Acc: 95.57%\n"
          ]
        },
        {
          "output_type": "stream",
          "name": "stderr",
          "text": [
            "Fine-tune 5/100: 100%|██████████| 59/59 [00:38<00:00,  1.52it/s]\n"
          ]
        },
        {
          "output_type": "stream",
          "name": "stdout",
          "text": [
            "[Fine-tune] Epoch 5/100 | Loss: 0.0703 | Train Acc: 95.77%\n"
          ]
        },
        {
          "output_type": "stream",
          "name": "stderr",
          "text": [
            "Fine-tune 6/100: 100%|██████████| 59/59 [00:38<00:00,  1.52it/s]\n"
          ]
        },
        {
          "output_type": "stream",
          "name": "stdout",
          "text": [
            "[Fine-tune] Epoch 6/100 | Loss: 0.0634 | Train Acc: 95.84%\n"
          ]
        },
        {
          "output_type": "stream",
          "name": "stderr",
          "text": [
            "Fine-tune 7/100: 100%|██████████| 59/59 [00:38<00:00,  1.51it/s]\n"
          ]
        },
        {
          "output_type": "stream",
          "name": "stdout",
          "text": [
            "[Fine-tune] Epoch 7/100 | Loss: 0.0636 | Train Acc: 95.94%\n"
          ]
        },
        {
          "output_type": "stream",
          "name": "stderr",
          "text": [
            "Fine-tune 8/100: 100%|██████████| 59/59 [00:38<00:00,  1.55it/s]\n"
          ]
        },
        {
          "output_type": "stream",
          "name": "stdout",
          "text": [
            "[Fine-tune] Epoch 8/100 | Loss: 0.0615 | Train Acc: 95.94%\n"
          ]
        },
        {
          "output_type": "stream",
          "name": "stderr",
          "text": [
            "Fine-tune 9/100: 100%|██████████| 59/59 [00:38<00:00,  1.52it/s]\n"
          ]
        },
        {
          "output_type": "stream",
          "name": "stdout",
          "text": [
            "[Fine-tune] Epoch 9/100 | Loss: 0.0647 | Train Acc: 95.96%\n"
          ]
        },
        {
          "output_type": "stream",
          "name": "stderr",
          "text": [
            "Fine-tune 10/100: 100%|██████████| 59/59 [00:38<00:00,  1.54it/s]\n"
          ]
        },
        {
          "output_type": "stream",
          "name": "stdout",
          "text": [
            "[Fine-tune] Epoch 10/100 | Loss: 0.0632 | Train Acc: 95.90%\n"
          ]
        },
        {
          "output_type": "stream",
          "name": "stderr",
          "text": [
            "Fine-tune 11/100: 100%|██████████| 59/59 [00:38<00:00,  1.55it/s]\n"
          ]
        },
        {
          "output_type": "stream",
          "name": "stdout",
          "text": [
            "[Fine-tune] Epoch 11/100 | Loss: 0.0643 | Train Acc: 95.81%\n"
          ]
        },
        {
          "output_type": "stream",
          "name": "stderr",
          "text": [
            "Fine-tune 12/100: 100%|██████████| 59/59 [00:38<00:00,  1.55it/s]\n"
          ]
        },
        {
          "output_type": "stream",
          "name": "stdout",
          "text": [
            "[Fine-tune] Epoch 12/100 | Loss: 0.0542 | Train Acc: 96.24%\n"
          ]
        },
        {
          "output_type": "stream",
          "name": "stderr",
          "text": [
            "Fine-tune 13/100: 100%|██████████| 59/59 [00:38<00:00,  1.52it/s]\n"
          ]
        },
        {
          "output_type": "stream",
          "name": "stdout",
          "text": [
            "[Fine-tune] Epoch 13/100 | Loss: 0.0252 | Train Acc: 99.14%\n"
          ]
        },
        {
          "output_type": "stream",
          "name": "stderr",
          "text": [
            "Fine-tune 14/100: 100%|██████████| 59/59 [00:38<00:00,  1.52it/s]\n"
          ]
        },
        {
          "output_type": "stream",
          "name": "stdout",
          "text": [
            "[Fine-tune] Epoch 14/100 | Loss: 0.0018 | Train Acc: 99.97%\n"
          ]
        },
        {
          "output_type": "stream",
          "name": "stderr",
          "text": [
            "Fine-tune 15/100: 100%|██████████| 59/59 [00:38<00:00,  1.52it/s]\n"
          ]
        },
        {
          "output_type": "stream",
          "name": "stdout",
          "text": [
            "[Fine-tune] Epoch 15/100 | Loss: 0.0017 | Train Acc: 99.96%\n"
          ]
        },
        {
          "output_type": "stream",
          "name": "stderr",
          "text": [
            "Fine-tune 16/100: 100%|██████████| 59/59 [00:38<00:00,  1.52it/s]\n"
          ]
        },
        {
          "output_type": "stream",
          "name": "stdout",
          "text": [
            "[Fine-tune] Epoch 16/100 | Loss: 0.0016 | Train Acc: 99.96%\n"
          ]
        },
        {
          "output_type": "stream",
          "name": "stderr",
          "text": [
            "Fine-tune 17/100: 100%|██████████| 59/59 [00:38<00:00,  1.53it/s]\n"
          ]
        },
        {
          "output_type": "stream",
          "name": "stdout",
          "text": [
            "[Fine-tune] Epoch 17/100 | Loss: 0.0057 | Train Acc: 99.83%\n"
          ]
        },
        {
          "output_type": "stream",
          "name": "stderr",
          "text": [
            "Fine-tune 18/100: 100%|██████████| 59/59 [00:38<00:00,  1.55it/s]\n"
          ]
        },
        {
          "output_type": "stream",
          "name": "stdout",
          "text": [
            "[Fine-tune] Epoch 18/100 | Loss: 0.0038 | Train Acc: 99.93%\n"
          ]
        },
        {
          "output_type": "stream",
          "name": "stderr",
          "text": [
            "Fine-tune 19/100: 100%|██████████| 59/59 [00:38<00:00,  1.54it/s]\n"
          ]
        },
        {
          "output_type": "stream",
          "name": "stdout",
          "text": [
            "[Fine-tune] Epoch 19/100 | Loss: 0.0119 | Train Acc: 99.69%\n"
          ]
        },
        {
          "output_type": "stream",
          "name": "stderr",
          "text": [
            "Fine-tune 20/100: 100%|██████████| 59/59 [00:38<00:00,  1.55it/s]\n"
          ]
        },
        {
          "output_type": "stream",
          "name": "stdout",
          "text": [
            "[Fine-tune] Epoch 20/100 | Loss: 0.0030 | Train Acc: 99.89%\n"
          ]
        },
        {
          "output_type": "stream",
          "name": "stderr",
          "text": [
            "Fine-tune 21/100: 100%|██████████| 59/59 [00:38<00:00,  1.54it/s]\n"
          ]
        },
        {
          "output_type": "stream",
          "name": "stdout",
          "text": [
            "[Fine-tune] Epoch 21/100 | Loss: 0.0122 | Train Acc: 99.73%\n",
            "Early stopping fine-tuning at epoch 21 (no improvement for 5 epochs).\n",
            "Fine-tune time: 13.57 min\n",
            "Total training time: 101.20 min\n"
          ]
        },
        {
          "output_type": "stream",
          "name": "stderr",
          "text": [
            "Testing: 100%|██████████| 15/15 [05:06<00:00, 20.44s/it]\n"
          ]
        },
        {
          "output_type": "stream",
          "name": "stdout",
          "text": [
            "Test Accuracy: 99.46%\n",
            "Average Inference Time (per image): 1.507 ms\n",
            "Classification Report:\n",
            "                precision    recall  f1-score   support\n",
            "\n",
            "     Adialer.C     1.0000    1.0000    1.0000        24\n",
            "     Agent.FYI     1.0000    1.0000    1.0000        23\n",
            "     Allaple.A     1.0000    1.0000    1.0000       590\n",
            "     Allaple.L     1.0000    1.0000    1.0000       318\n",
            " Alueron.gen!J     1.0000    1.0000    1.0000        40\n",
            "     Autorun.K     1.0000    1.0000    1.0000        21\n",
            "       C2LOP.P     0.8750    0.9655    0.9180        29\n",
            "   C2LOP.gen!g     0.9750    0.9750    0.9750        40\n",
            "Dialplatform.B     1.0000    1.0000    1.0000        35\n",
            "     Dontovo.A     1.0000    1.0000    1.0000        33\n",
            "      Fakerean     1.0000    1.0000    1.0000        76\n",
            " Instantaccess     1.0000    1.0000    1.0000        86\n",
            "    Lolyda.AA1     1.0000    1.0000    1.0000        43\n",
            "    Lolyda.AA2     1.0000    1.0000    1.0000        37\n",
            "    Lolyda.AA3     1.0000    1.0000    1.0000        25\n",
            "     Lolyda.AT     1.0000    1.0000    1.0000        32\n",
            "   Malex.gen!J     1.0000    1.0000    1.0000        27\n",
            " Obfuscator.AD     1.0000    1.0000    1.0000        28\n",
            "      Rbot!gen     1.0000    1.0000    1.0000        32\n",
            "    Skintrim.N     1.0000    1.0000    1.0000        16\n",
            " Swizzor.gen!E     0.8333    0.9615    0.8929        26\n",
            " Swizzor.gen!I     1.0000    0.7308    0.8444        26\n",
            "         VB.AT     1.0000    1.0000    1.0000        82\n",
            "    Wintrim.BX     1.0000    1.0000    1.0000        19\n",
            "       Yuner.A     1.0000    1.0000    1.0000       160\n",
            "\n",
            "      accuracy                         0.9946      1868\n",
            "     macro avg     0.9873    0.9853    0.9852      1868\n",
            "  weighted avg     0.9952    0.9946    0.9945      1868\n",
            "\n"
          ]
        },
        {
          "output_type": "display_data",
          "data": {
            "text/plain": [
              "<Figure size 1000x800 with 2 Axes>"
            ],
            "image/png": "[encoded data removed]"
          },
          "metadata": {}
        },
        {
          "output_type": "stream",
          "name": "stderr",
          "text": [
            "Extracting features for t-SNE: 100%|██████████| 15/15 [00:07<00:00,  2.12it/s]\n",
            "/usr/local/lib/python3.12/dist-packages/sklearn/manifold/_t_sne.py:1164: FutureWarning: 'n_iter' was renamed to 'max_iter' in version 1.5 and will be removed in 1.7.\n",
            "  warnings.warn(\n"
          ]
        },
        {
          "output_type": "display_data",
          "data": {
            "text/plain": [
              "<Figure size 1000x800 with 1 Axes>"
            ],
            "image/png": "[encoded data removed]"
          },
          "metadata": {}
        },
        {
          "output_type": "stream",
          "name": "stdout",
          "text": [
            "Done. Saved best & final weights.\n"
          ]
        }
      ],
      "source": [
        "# =========================\n",
        "# Imports\n",
        "# =========================\n",
        "import os, time, random\n",
        "import numpy as np\n",
        "from glob import glob\n",
        "\n",
        "import torch\n",
        "import torch.nn as nn\n",
        "import torch.nn.functional as F\n",
        "import torch.optim as optim\n",
        "\n",
        "import torchvision.models as models\n",
        "import torchvision.transforms as T\n",
        "\n",
        "from torch.utils.data import DataLoader, Dataset, WeightedRandomSampler\n",
        "\n",
        "from PIL import Image\n",
        "from tqdm import tqdm\n",
        "\n",
        "from sklearn.model_selection import train_test_split\n",
        "from sklearn.metrics import classification_report, confusion_matrix, accuracy_score\n",
        "from sklearn.manifold import TSNE\n",
        "import matplotlib.pyplot as plt\n",
        "\n",
        "# Reproducibility\n",
        "seed = 42\n",
        "random.seed(seed)\n",
        "np.random.seed(seed)\n",
        "torch.manual_seed(seed)\n",
        "torch.cuda.manual_seed_all(seed)\n",
        "\n",
        "# =========================\n",
        "# Paths & Hyperparams\n",
        "# =========================\n",
        "root_dir = \"/content/drive/MyDrive/Colab Notebooks/malimg_paper_dataset_imgs\"\n",
        "\n",
        "batch_size = 128\n",
        "pretrain_epochs = 100\n",
        "finetune_epochs = 100\n",
        "learning_rate = 1e-3\n",
        "finetune_lr  = 1e-4\n",
        "temperature  = 0.5\n",
        "projection_dim = 128\n",
        "test_ratio = 0.2\n",
        "patience = 5\n",
        "device = torch.device(\"cuda\" if torch.cuda.is_available() else \"cpu\")\n",
        "\n",
        "# =========================\n",
        "# Dataset helpers\n",
        "# =========================\n",
        "def list_images_and_labels(root_dir):\n",
        "    class_names = sorted([d for d in os.listdir(root_dir)\n",
        "                          if os.path.isdir(os.path.join(root_dir, d))])\n",
        "    class_to_idx = {c:i for i,c in enumerate(class_names)}\n",
        "    img_paths, labels = [], []\n",
        "    for cls in class_names:\n",
        "        cls_path = os.path.join(root_dir, cls)\n",
        "        for f in os.listdir(cls_path):\n",
        "            p = os.path.join(cls_path, f)\n",
        "            if os.path.isfile(p):\n",
        "                img_paths.append(p)\n",
        "                labels.append(class_to_idx[cls])\n",
        "    return img_paths, labels, class_names\n",
        "\n",
        "class MalimgDatasetFromList(Dataset):\n",
        "    def __init__(self, image_paths, labels, transform=None):\n",
        "        self.image_paths = image_paths\n",
        "        self.labels = labels\n",
        "        self.transform = transform\n",
        "\n",
        "    def __len__(self):\n",
        "        return len(self.image_paths)\n",
        "\n",
        "    def __getitem__(self, idx):\n",
        "        img = Image.open(self.image_paths[idx]).convert(\"RGB\")\n",
        "        label = self.labels[idx]\n",
        "        if self.transform:\n",
        "            img = self.transform(img)\n",
        "        return img, label\n",
        "\n",
        "class ContrastiveDataset(Dataset):\n",
        "    def __init__(self, base_dataset, augment):\n",
        "        self.base = base_dataset\n",
        "        self.augment = augment\n",
        "\n",
        "    def __len__(self):\n",
        "        return len(self.base)\n",
        "\n",
        "    def __getitem__(self, idx):\n",
        "        img, _ = self.base[idx]\n",
        "        if hasattr(self.base, \"image_paths\"):\n",
        "            pil = Image.open(self.base.image_paths[idx]).convert(\"RGB\")\n",
        "        else:\n",
        "            pil = img\n",
        "        x1 = self.augment(pil)\n",
        "        x2 = self.augment(pil)\n",
        "        return x1, x2\n",
        "\n",
        "# =========================\n",
        "# Model (SimCLR wrapper)\n",
        "# =========================\n",
        "class SimCLR(nn.Module):\n",
        "    def __init__(self, base_model, projection_dim=128):\n",
        "        super().__init__()\n",
        "        self.encoder = base_model\n",
        "        self.projection = nn.Sequential(\n",
        "            nn.Linear(1000, 512),\n",
        "            nn.ReLU(inplace=True),\n",
        "            nn.Linear(512, projection_dim)\n",
        "        )\n",
        "\n",
        "    def forward(self, x):\n",
        "        h = self.encoder(x)\n",
        "        z = self.projection(h)\n",
        "        return h, z\n",
        "\n",
        "def nt_xent_loss(z1, z2, temperature=0.5):\n",
        "    N = z1.size(0)\n",
        "    z1 = F.normalize(z1, dim=1)\n",
        "    z2 = F.normalize(z2, dim=1)\n",
        "    z  = torch.cat([z1, z2], dim=0)\n",
        "\n",
        "    sim = torch.matmul(z, z.T) / temperature\n",
        "    mask = torch.eye(2*N, dtype=torch.bool, device=z.device)\n",
        "    sim = sim.masked_fill(mask, -9e15)\n",
        "\n",
        "    pos = torch.cat([torch.diag(sim, N), torch.diag(sim, -N)], dim=0)\n",
        "    neg = sim\n",
        "\n",
        "    logits = torch.cat([pos.unsqueeze(1), neg], dim=1)\n",
        "    labels = torch.zeros(2*N, dtype=torch.long, device=z.device)\n",
        "    loss = F.cross_entropy(logits, labels)\n",
        "    return loss\n",
        "\n",
        "# =========================\n",
        "# Data prep + split\n",
        "# =========================\n",
        "all_paths, all_labels, class_names = list_images_and_labels(root_dir)\n",
        "num_classes = len(class_names)\n",
        "\n",
        "train_paths, test_paths, train_labels, test_labels = train_test_split(\n",
        "    all_paths, all_labels,\n",
        "    test_size=test_ratio,\n",
        "    stratify=all_labels,\n",
        "    random_state=seed\n",
        ")\n",
        "\n",
        "train_dataset_pil = MalimgDatasetFromList(train_paths, train_labels, transform=None)\n",
        "\n",
        "simclr_augment = T.Compose([\n",
        "    T.RandomResizedCrop(224),\n",
        "    T.RandomHorizontalFlip(),\n",
        "    T.RandomApply([T.ColorJitter(0.4, 0.4, 0.4, 0.1)], p=0.8),\n",
        "    T.RandomGrayscale(p=0.2),\n",
        "    T.ToTensor()\n",
        "])\n",
        "\n",
        "contrastive_dataset = ContrastiveDataset(train_dataset_pil, simclr_augment)\n",
        "\n",
        "class_counts = np.bincount(train_labels, minlength=num_classes).astype(np.float32)\n",
        "class_counts[class_counts == 0] = 1.0\n",
        "weights_per_class = 1.0 / class_counts\n",
        "sample_weights = np.array([weights_per_class[y] for y in train_labels], dtype=np.float32)\n",
        "train_sampler = WeightedRandomSampler(\n",
        "    weights=torch.as_tensor(sample_weights),\n",
        "    num_samples=len(sample_weights),\n",
        "    replacement=True\n",
        ")\n",
        "\n",
        "contrastive_loader = DataLoader(\n",
        "    contrastive_dataset,\n",
        "    batch_size=batch_size,\n",
        "    sampler=train_sampler,\n",
        "    num_workers=2,\n",
        "    pin_memory=True\n",
        ")\n",
        "\n",
        "train_transform_cls = T.Compose([\n",
        "    T.Resize((224, 224)),\n",
        "    T.ToTensor()\n",
        "])\n",
        "test_transform_cls = T.Compose([\n",
        "    T.Resize((224, 224)),\n",
        "    T.ToTensor()\n",
        "])\n",
        "\n",
        "train_dataset_cls = MalimgDatasetFromList(train_paths, train_labels, transform=train_transform_cls)\n",
        "test_dataset_cls  = MalimgDatasetFromList(test_paths,  test_labels,  transform=test_transform_cls)\n",
        "\n",
        "train_loader_cls = DataLoader(\n",
        "    train_dataset_cls,\n",
        "    batch_size=batch_size,\n",
        "    sampler=train_sampler,\n",
        "    num_workers=2,\n",
        "    pin_memory=True\n",
        ")\n",
        "test_loader = DataLoader(\n",
        "    test_dataset_cls,\n",
        "    batch_size=batch_size,\n",
        "    shuffle=False,\n",
        "    num_workers=2,\n",
        "    pin_memory=True\n",
        ")\n",
        "\n",
        "# =========================\n",
        "# Build models\n",
        "# =========================\n",
        "base_model = models.resnet50(pretrained=True)\n",
        "simclr_model = SimCLR(base_model, projection_dim=projection_dim).to(device)\n",
        "\n",
        "optimizer = optim.Adam(simclr_model.parameters(), lr=learning_rate)\n",
        "\n",
        "# =========================\n",
        "# Pretraining (SimCLR) + timing\n",
        "# =========================\n",
        "pretrain_start = time.time()\n",
        "best_train_loss = float(\"inf\")\n",
        "no_improve = 0\n",
        "\n",
        "for epoch in range(pretrain_epochs):\n",
        "    simclr_model.train()\n",
        "    running_loss = 0.0\n",
        "    for (x1, x2) in tqdm(contrastive_loader, desc=f\"SimCLR Pretrain {epoch+1}/{pretrain_epochs}\"):\n",
        "        x1, x2 = x1.to(device, non_blocking=True), x2.to(device, non_blocking=True)\n",
        "\n",
        "        _, z1 = simclr_model(x1)\n",
        "        _, z2 = simclr_model(x2)\n",
        "        loss = nt_xent_loss(z1, z2, temperature=temperature)\n",
        "\n",
        "        optimizer.zero_grad()\n",
        "        loss.backward()\n",
        "        optimizer.step()\n",
        "\n",
        "        running_loss += loss.item()\n",
        "\n",
        "    epoch_loss = running_loss / max(1, len(contrastive_loader))\n",
        "    print(f\"[Pretrain] Epoch {epoch+1}/{pretrain_epochs} | Loss: {epoch_loss:.4f}\")\n",
        "\n",
        "    if epoch_loss + 1e-6 < best_train_loss:\n",
        "        best_train_loss = epoch_loss\n",
        "        no_improve = 0\n",
        "    else:\n",
        "        no_improve += 1\n",
        "        if no_improve >= patience:\n",
        "            print(f\"Early stopping SimCLR pretraining at epoch {epoch+1} (no improvement for {patience} epochs).\")\n",
        "            break\n",
        "\n",
        "if device.type == \"cuda\":\n",
        "    torch.cuda.synchronize()\n",
        "pretrain_time = time.time() - pretrain_start\n",
        "print(f\"Pretraining time: {pretrain_time/60:.2f} min\")\n",
        "\n",
        "# =========================\n",
        "# Fine-tune classifier (train split only) with early stopping + timing\n",
        "# =========================\n",
        "# --- Updated classifier (2 hidden layers MLP) ---\n",
        "classifier = nn.Sequential(\n",
        "    nn.Linear(1000, 512),\n",
        "    nn.ReLU(inplace=True),\n",
        "    nn.Linear(512, 256),\n",
        "    nn.ReLU(inplace=True),\n",
        "    nn.Linear(256, num_classes)\n",
        ").to(device)\n",
        "\n",
        "criterion  = nn.CrossEntropyLoss()\n",
        "optimizer_cls = optim.Adam(\n",
        "    list(simclr_model.encoder.parameters()) + list(classifier.parameters()),\n",
        "    lr=finetune_lr\n",
        ")\n",
        "\n",
        "best_loss = float(\"inf\")\n",
        "no_improve = 0\n",
        "\n",
        "ft_start = time.time()\n",
        "for epoch in range(finetune_epochs):\n",
        "    simclr_model.train()\n",
        "    classifier.train()\n",
        "    running_loss = 0.0\n",
        "    correct, total = 0, 0\n",
        "\n",
        "    for imgs, labels in tqdm(train_loader_cls, desc=f\"Fine-tune {epoch+1}/{finetune_epochs}\"):\n",
        "        imgs = imgs.to(device, non_blocking=True)\n",
        "        labels = labels.to(device, non_blocking=True)\n",
        "\n",
        "        h, _ = simclr_model(imgs)\n",
        "        outputs = classifier(h)\n",
        "        loss = criterion(outputs, labels)\n",
        "\n",
        "        optimizer_cls.zero_grad()\n",
        "        loss.backward()\n",
        "        optimizer_cls.step()\n",
        "\n",
        "        running_loss += loss.item()\n",
        "\n",
        "        _, preds = torch.max(outputs, 1)\n",
        "        correct += (preds == labels).sum().item()\n",
        "        total   += labels.size(0)\n",
        "\n",
        "    epoch_loss = running_loss / max(1, len(train_loader_cls))\n",
        "    train_acc  = 100.0 * correct / max(1, total)\n",
        "    print(f\"[Fine-tune] Epoch {epoch+1}/{finetune_epochs} | Loss: {epoch_loss:.4f} | Train Acc: {train_acc:.2f}%\")\n",
        "\n",
        "    if epoch_loss + 1e-6 < best_loss:\n",
        "        best_loss = epoch_loss\n",
        "        no_improve = 0\n",
        "        torch.save(simclr_model.encoder.state_dict(), \"/content/drive/MyDrive/Colab Notebooks/SimCLR/imclr_resnet50_encoder_best.pth\")\n",
        "        torch.save(classifier.state_dict(), \"/content/drive/MyDrive/Colab Notebooks/SimCLR/simclr_resnet50_classifierMLP_best.pth\")\n",
        "    else:\n",
        "        no_improve += 1\n",
        "        if no_improve >= patience:\n",
        "            print(f\"Early stopping fine-tuning at epoch {epoch+1} (no improvement for {patience} epochs).\")\n",
        "            break\n",
        "\n",
        "if device.type == \"cuda\":\n",
        "    torch.cuda.synchronize()\n",
        "finetune_time = time.time() - ft_start\n",
        "print(f\"Fine-tune time: {finetune_time/60:.2f} min\")\n",
        "print(f\"Total training time: {(pretrain_time + finetune_time)/60:.2f} min\")\n",
        "\n",
        "# Load best weights\n",
        "simclr_model.encoder.load_state_dict(torch.load(\"/content/drive/MyDrive/Colab Notebooks/SimCLR/imclr_resnet50_encoder_best.pth\"))\n",
        "classifier.load_state_dict(torch.load(\"/content/drive/MyDrive/Colab Notebooks/SimCLR/simclr_resnet50_classifierMLP_best.pth\"))\n",
        "simclr_model.eval()\n",
        "classifier.eval()\n",
        "\n",
        "# =========================\n",
        "# Test Evaluation\n",
        "# =========================\n",
        "all_preds, all_labels = [], []\n",
        "inference_images = 0\n",
        "total_infer_time = 0.0\n",
        "\n",
        "with torch.no_grad():\n",
        "    for imgs, labels in tqdm(test_loader, desc=\"Testing\"):\n",
        "        imgs = imgs.to(device, non_blocking=True)\n",
        "        labels = labels.to(device, non_blocking=True)\n",
        "\n",
        "        if device.type == \"cuda\":\n",
        "            torch.cuda.synchronize()\n",
        "        t0 = time.time()\n",
        "\n",
        "        h, _ = simclr_model(imgs)\n",
        "        outputs = classifier(h)\n",
        "\n",
        "        if device.type == \"cuda\":\n",
        "            torch.cuda.synchronize()\n",
        "        t1 = time.time()\n",
        "\n",
        "        total_infer_time += (t1 - t0)\n",
        "        inference_images += imgs.size(0)\n",
        "\n",
        "        _, preds = torch.max(outputs, 1)\n",
        "        all_preds.extend(preds.cpu().numpy().tolist())\n",
        "        all_labels.extend(labels.cpu().numpy().tolist())\n",
        "\n",
        "test_acc = accuracy_score(all_labels, all_preds) * 100.0\n",
        "avg_infer_ms = (total_infer_time / max(1, inference_images)) * 1000.0\n",
        "print(f\"Test Accuracy: {test_acc:.2f}%\")\n",
        "print(f\"Average Inference Time (per image): {avg_infer_ms:.3f} ms\")\n",
        "\n",
        "print(\"Classification Report:\")\n",
        "print(classification_report(all_labels, all_preds, target_names=class_names, digits=4))\n",
        "\n",
        "cm = confusion_matrix(all_labels, all_preds, labels=list(range(num_classes)))\n",
        "\n",
        "plt.figure(figsize=(10, 8))\n",
        "plt.imshow(cm, interpolation='nearest')\n",
        "plt.title(\"Confusion Matrix\")\n",
        "plt.xlabel(\"Predicted\")\n",
        "plt.ylabel(\"True\")\n",
        "plt.colorbar()\n",
        "tick_marks = np.arange(num_classes)\n",
        "plt.xticks(tick_marks, class_names, rotation=90)\n",
        "plt.yticks(tick_marks, class_names)\n",
        "plt.tight_layout()\n",
        "plt.show()\n",
        "\n",
        "# =========================\n",
        "# t-SNE\n",
        "# =========================\n",
        "features, labels_tsne = [], []\n",
        "with torch.no_grad():\n",
        "    for imgs, labels in tqdm(test_loader, desc=\"Extracting features for t-SNE\"):\n",
        "        imgs = imgs.to(device, non_blocking=True)\n",
        "        h, _ = simclr_model(imgs)\n",
        "        features.append(h.cpu().numpy())\n",
        "        labels_tsne.extend(labels.numpy())\n",
        "features = np.concatenate(features, axis=0)\n",
        "labels_tsne = np.array(labels_tsne)\n",
        "\n",
        "tsne = TSNE(n_components=2, perplexity=30, learning_rate=200, random_state=seed, n_iter=1000)\n",
        "features_2d = tsne.fit_transform(features)\n",
        "\n",
        "plt.figure(figsize=(10, 8))\n",
        "scatter = plt.scatter(features_2d[:, 0], features_2d[:, 1], c=labels_tsne, s=10, alpha=0.7)\n",
        "plt.title(\"t-SNE of Encoder Features (Test Set)\")\n",
        "plt.tight_layout()\n",
        "plt.show()\n",
        "\n",
        "# =========================\n",
        "# Final save\n",
        "# =========================\n",
        "torch.save(simclr_model.encoder.state_dict(), \"/content/drive/MyDrive/Colab Notebooks/SimCLR/SimCLRsimclr_resnet50_encoder_final.pth\")\n",
        "torch.save(classifier.state_dict(),          \"/content/drive/MyDrive/Colab Notebooks/SimCLR/simclr_resnet50_classifier_final.pth\")\n",
        "print(\"Done. Saved best & final weights.\")\n"
      ]
    }
  ]
}